{
 "cells": [
  {
   "cell_type": "code",
   "execution_count": 13,
   "id": "36dfb5e4",
   "metadata": {},
   "outputs": [
    {
     "name": "stdout",
     "output_type": "stream",
     "text": [
      "[2, 3, 6]\n",
      "result: \n",
      "36\n"
     ]
    }
   ],
   "source": [
    "def multiply_list(list) :\n",
    "    result = 1\n",
    "    for i in list:\n",
    "         result = result * i\n",
    "    return result\n",
    "     \n",
    "\n",
    "list1 = [2, 3, 6]\n",
    "print(list1)\n",
    "print(\"result: \") \n",
    "print(multiply_list(list1))"
   ]
  },
  {
   "cell_type": "code",
   "execution_count": 14,
   "id": "302e3842",
   "metadata": {},
   "outputs": [
    {
     "name": "stdout",
     "output_type": "stream",
     "text": [
      "[(2, 1), (1, 2), (5, 2), (2, 3), (4, 4)]\n"
     ]
    }
   ],
   "source": [
    "def last(n): return n[-1]\n",
    "\n",
    "def sort_list_last(tuples):\n",
    "      return sorted(tuples, key=last)\n",
    "\n",
    "print(sort_list_last([(2, 1), (1, 2), (4, 4), (2, 3), (5, 2)]))"
   ]
  },
  {
   "cell_type": "code",
   "execution_count": 27,
   "id": "652c59f7",
   "metadata": {},
   "outputs": [
    {
     "name": "stdout",
     "output_type": "stream",
     "text": [
      "{'a': 400, 'b': 400, 'd': 400}\n"
     ]
    }
   ],
   "source": [
    "dict1 = {'a': 100, 'b': 200, 'c': 300}\n",
    "dict2 = {'a': 300, 'b': 200, 'd': 400}\n",
    "for key in dict2:\n",
    "    if key in dict1:\n",
    "        dict2[key] = dict2[key] + dict1[key]       \n",
    "print(dict2)\n"
   ]
  },
  {
   "cell_type": "code",
   "execution_count": 34,
   "id": "e8cac268",
   "metadata": {},
   "outputs": [
    {
     "name": "stdout",
     "output_type": "stream",
     "text": [
      "input a number8\n",
      "{1: 1, 2: 4, 3: 9, 4: 16, 5: 25, 6: 36, 7: 49, 8: 64}\n"
     ]
    }
   ],
   "source": [
    "number = int(input(\"input a number\"))\n",
    "numberdictonary = {}\n",
    "for i in range(1, number+1):\n",
    "    numberdictonary[i] = i*i\n",
    "\n",
    "print(numberdictonary)"
   ]
  },
  {
   "cell_type": "code",
   "execution_count": 2,
   "id": "d32d75ca",
   "metadata": {},
   "outputs": [
    {
     "name": "stdout",
     "output_type": "stream",
     "text": [
      "[('item3', '24.5'), ('item2', '15.10'), ('item1', '12.20')]\n"
     ]
    }
   ],
   "source": [
    "def Sort(tup):\n",
    "    tup.sort(key = lambda x: float(x[1]), reverse = True)\n",
    "    print(tup)\n",
    "tup = [('item1', '12.20'), ('item2', '15.10'), ('item3', '24.5')]\n",
    "Sort(tup)"
   ]
  },
  {
   "cell_type": "code",
   "execution_count": 1,
   "id": "a9b4a614",
   "metadata": {},
   "outputs": [
    {
     "name": "stdout",
     "output_type": "stream",
     "text": [
      "{0, 1, 2, 3, 4}\n"
     ]
    }
   ],
   "source": [
    "my_set = {0, 1, 2, 3, 4}\n",
    "print(my_set)"
   ]
  },
  {
   "cell_type": "code",
   "execution_count": 3,
   "id": "d13b1d71",
   "metadata": {},
   "outputs": [
    {
     "name": "stdout",
     "output_type": "stream",
     "text": [
      "input a set1,2,6\n",
      "6\n",
      "1\n",
      ",\n",
      "2\n"
     ]
    }
   ],
   "source": [
    "my_set = set(input(\"input a set\"))\n",
    "for val in my_set:\n",
    "    print(val)"
   ]
  },
  {
   "cell_type": "code",
   "execution_count": 12,
   "id": "4d42142f",
   "metadata": {},
   "outputs": [
    {
     "name": "stdout",
     "output_type": "stream",
     "text": [
      "{'test2', 'test3', 'test4', 'test1'}\n"
     ]
    }
   ],
   "source": [
    "my_set = {\"test1\" , \"test2\" , \"test3\"}\n",
    "my_set.add(\"test4\")\n",
    "print(my_set)"
   ]
  },
  {
   "cell_type": "code",
   "execution_count": 13,
   "id": "ed76af88",
   "metadata": {},
   "outputs": [
    {
     "name": "stdout",
     "output_type": "stream",
     "text": [
      "{'test2', 'test3'}\n"
     ]
    }
   ],
   "source": [
    "my_set = {\"test1\" , \"test2\" , \"test3\"}\n",
    "my_set.remove(\"test1\")\n",
    "print(my_set)"
   ]
  },
  {
   "cell_type": "code",
   "execution_count": null,
   "id": "cee13adc",
   "metadata": {},
   "outputs": [],
   "source": []
  }
 ],
 "metadata": {
  "kernelspec": {
   "display_name": "Python 3 (ipykernel)",
   "language": "python",
   "name": "python3"
  },
  "language_info": {
   "codemirror_mode": {
    "name": "ipython",
    "version": 3
   },
   "file_extension": ".py",
   "mimetype": "text/x-python",
   "name": "python",
   "nbconvert_exporter": "python",
   "pygments_lexer": "ipython3",
   "version": "3.9.13"
  }
 },
 "nbformat": 4,
 "nbformat_minor": 5
}
